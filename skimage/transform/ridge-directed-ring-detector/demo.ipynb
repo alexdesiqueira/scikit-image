{
 "cells": [
  {
   "cell_type": "markdown",
   "metadata": {},
   "source": [
    "# Demo notebook for the [ridge directed ring detector](https://github.com/eldad-a/ridge-directed-ring-detector)"
   ]
  },
  {
   "cell_type": "markdown",
   "metadata": {},
   "source": [
    "## <a id='Table of contents'></a> Table of contents"
   ]
  },
  {
   "cell_type": "markdown",
   "metadata": {},
   "source": [
    "1. [Reproduce demo in the manuscript](#channel_demo)\n",
    "2. [Reproduce the example from scikit-image using the ridge-directed-ring-detector](#skimage)\n",
    "3. TODO..."
   ]
  },
  {
   "cell_type": "markdown",
   "metadata": {},
   "source": [
    "#### Dependencies:\n",
    "2. Cython\n",
    "1. Scipy\n",
    "3. OpenCV (for fast array derivatives, can be replaced by `scipy.ndimage`, and for the EllipseFit which should rarely of real need)\n",
    "\n",
    "For this notebook:\n",
    "* pandas (for table pretty printing)\n",
    "* Scikit-Image (for the comparison)\n",
    "\n",
    "Your comments are welcome. \n",
    "\n",
    "Acknowledgements would be highly appreciated; for academic citation please use E. Afik, [Robust and highly performant ring detection algorithm for 3d particle tracking using 2d microscope imaging](http://www.nature.com/articles/srep13584). Sci. Rep. 5, 13584; doi: 10.1038/srep13584 (2015)."
   ]
  },
  {
   "cell_type": "code",
   "execution_count": null,
   "metadata": {},
   "outputs": [],
   "source": [
    "%matplotlib inline\n",
    "import numpy as np\n",
    "import matplotlib.pyplot as plt\n",
    "import os"
   ]
  },
  {
   "cell_type": "code",
   "execution_count": null,
   "metadata": {},
   "outputs": [],
   "source": [
    "##  load (and compile if necessary) the ridge_directed_ring_detector\n",
    "import pyximport; pyximport.install()\n",
    "import ridge_directed_ring_detector as ring_detector"
   ]
  },
  {
   "cell_type": "code",
   "execution_count": null,
   "metadata": {},
   "outputs": [],
   "source": [
    "#ring_detector.__file__"
   ]
  },
  {
   "cell_type": "code",
   "execution_count": null,
   "metadata": {},
   "outputs": [],
   "source": [
    "## a function to plot the rings\n",
    "pi = np.pi\n",
    "\n",
    "colourmap = plt.jet\n",
    "txt_colour = 'r'\n",
    "ring_colour = 'y'\n",
    "\n",
    "def plot_rings(xyr, minrad=1, ring_colour = 'g', ring_style=[None,'dotted','dashed'][0], lw=1, txt_colour='b', title=None):\n",
    "    '''\n",
    "    given a 3-column array of (x,y) for ring centres & a radius, plots the\n",
    "    rings\n",
    "    '''\n",
    "    #import matplotlib.pyplot as plt\n",
    "    for c in xyr:\n",
    "        if c[-1]>minrad:\n",
    "            circ = plt.Circle(c[:2][::-1],c[-1],ec=ring_colour,fill=False, lw=lw, ls=ring_style) \n",
    "            plt.gca().add_patch(circ)\n",
    "            i,j,r = c\n",
    "            if txt_colour:\n",
    "                plt.text(j,i,'.', fontsize=20, color=txt_colour)\n",
    "    plt.draw()"
   ]
  },
  {
   "cell_type": "markdown",
   "metadata": {},
   "source": [
    "## <a id='channel_demo'></a>  Reproduce demo in the [manuscript](http://www.nature.com/articles/srep13584)"
   ]
  },
  {
   "cell_type": "code",
   "execution_count": null,
   "metadata": {},
   "outputs": [],
   "source": [
    "ridge_hough = ring_detector.RidgeHoughTransform()\n",
    "\n",
    "default_params = ridge_hough.params.copy()\n",
    "\n",
    "ridge_hough.params['sigma'] = 0.8\n",
    "ridge_hough.params['curv_thresh'] = -50\n",
    "ridge_hough.params['circle_thresh'] = 2 * np.pi * .33\n",
    "ridge_hough.params['Rmin'] = 4\n",
    "ridge_hough.params['Rmax'] = 50\n",
    "ridge_hough.params['vote_thresh'] = 4\n",
    "ridge_hough.params['dr'] = 3\n",
    "ridge_hough.params['eccentricity'] = 0\n",
    "experimental_params = ridge_hough.params.copy()\n",
    "\n",
    "# print 'default img analysis parameters:'\n",
    "# for key in sorted(default_params.keys()):\n",
    "#     print '\\t %s = %s'  % (key, default_params[key])\n",
    "    \n",
    "print '\\nimg analysis parameters in the experiment:'\n",
    "for key in sorted(experimental_params.keys()):\n",
    "    print '\\t %s = %s'  % (key, experimental_params[key])"
   ]
  },
  {
   "cell_type": "code",
   "execution_count": null,
   "metadata": {},
   "outputs": [],
   "source": [
    "## Load picture\n",
    "imgName = '../data/unprocessed_fig_46.png'\n",
    "img = plt.imread(imgName )\n",
    "\n",
    "if img.max()<=1.:\n",
    "    img*=255./img.max()\n",
    "    \n",
    "IMG = img.astype(np.float32)"
   ]
  },
  {
   "cell_type": "code",
   "execution_count": null,
   "metadata": {},
   "outputs": [],
   "source": [
    "%%time\n",
    "\n",
    "ridge_hough = ring_detector.RidgeHoughTransform(IMG)\n",
    "ridge_hough.img_preprocess()\n",
    "#ridge_hough.debugging_rings_detection()\n",
    "ridge_hough.rings_detection()\n",
    "#detected_rings = ridge_hough.output['rings']\n",
    "rings = ridge_hough.output['rings_subpxl'] # keep for later (sub-pxl mask example)\n",
    "\n",
    "print 'NB: first run may be several times slower and not indicative.\\n'"
   ]
  },
  {
   "cell_type": "code",
   "execution_count": null,
   "metadata": {},
   "outputs": [],
   "source": [
    "fig,ax = plt.subplots(figsize=(15,10))\n",
    "im = ax.matshow(IMG, cmap=plt.cm.bone_r, vmax=80)\n",
    "# fig.colorbar(im)\n",
    "plot_rings(rings, ring_colour='r')\n",
    "plt.grid(True)\n",
    "print 'found {} rings'.format(rings.shape[0])"
   ]
  },
  {
   "cell_type": "code",
   "execution_count": null,
   "metadata": {},
   "outputs": [],
   "source": [
    "if True:\n",
    "    import pandas as pd\n",
    "    #pd.set_option('display.max_rows', 10)\n",
    "    rings_df = pd.DataFrame(rings[rings.T[-1].argsort()[::-1]], \n",
    "                            columns=['row','col','rad'], \n",
    "                            index=range(1,rings.shape[0]+1),\n",
    "                            )\n",
    "rings_df"
   ]
  },
  {
   "cell_type": "markdown",
   "metadata": {},
   "source": [
    "Least principal eigenvalue of the Hessian takes roughly 4% of the execusion time, therefore\n",
    "\n",
    "optimisation attempts should focus on the steps following the Least principal curvature calculation"
   ]
  },
  {
   "cell_type": "code",
   "execution_count": null,
   "metadata": {},
   "outputs": [],
   "source": [
    "%%timeit\n",
    "ridge_hough = ring_detector.RidgeHoughTransform(IMG)\n",
    "ridge_hough.img_preprocess()\n",
    "# ridge_hough.debugging_rings_detection()\n",
    "# ridge_hough.rings_detection()\n",
    "# # detected_rings = ridge_hough.output['rings']\n",
    "# rings = ridge_hough.output['rings_subpxl'] # keep for later (sub-pxl mask example)"
   ]
  },
  {
   "cell_type": "markdown",
   "metadata": {},
   "source": [
    "## <a id='skimage'></a>  Reproduce the [example from scikit-image](http://scikit-image.org/docs/dev/auto_examples/plot_circular_elliptical_hough_transform.html#circular-and-elliptical-hough-transforms)  using the [ridge directed ring detector](http://www.nature.com/articles/srep13584)"
   ]
  },
  {
   "cell_type": "code",
   "execution_count": null,
   "metadata": {},
   "outputs": [],
   "source": [
    "from skimage import data\n",
    "from scipy import ndimage, misc"
   ]
  },
  {
   "cell_type": "code",
   "execution_count": null,
   "metadata": {},
   "outputs": [],
   "source": [
    "image = data.coins()[0:95, 70:370]"
   ]
  },
  {
   "cell_type": "code",
   "execution_count": null,
   "metadata": {},
   "outputs": [],
   "source": [
    "%%time\n",
    "\n",
    "## as the algorithm is currently meant for ridges, convert the image to a gradient magnitude image\n",
    "IMG = image.astype(np.float32)\n",
    "sigma = .5\n",
    "d_mag = ndimage.gaussian_gradient_magnitude(IMG, sigma)\n",
    "\n",
    "IMG = d_mag\n",
    "\n",
    "ridge_hough = ring_detector.RidgeHoughTransform(IMG)\n",
    "ridge_hough.params['sigma'] = 3\n",
    "ridge_hough.params['Rmin'] = 15\n",
    "ridge_hough.params['Rmax'] = 30\n",
    "ridge_hough.params['curv_thresh'] = -35\n",
    "ridge_hough.params['circle_thresh'] = .4*2*pi\n",
    "ridge_hough.params['vote_thresh'] = 3\n",
    "ridge_hough.params['dr'] = 3\n",
    "ridge_hough.img_preprocess()\n",
    "#ridge_hough.debugging_rings_detection()\n",
    "ridge_hough.rings_detection()\n",
    "#detected_rings = ridge_hough.output['rings']\n",
    "CHT_rings = ridge_hough.output['rings_subpxl'] # keep for later (sub-pxl mask example)\n",
    "\n",
    "print 'NB: first run may be several times slower and not indicative.\\n'"
   ]
  },
  {
   "cell_type": "code",
   "execution_count": null,
   "metadata": {},
   "outputs": [],
   "source": [
    "plt.matshow(image, cmap=plt.cm.gray)\n",
    "plot_rings(CHT_rings, ring_colour='r')\n",
    "plt.grid(True)\n",
    "print CHT_rings"
   ]
  },
  {
   "cell_type": "markdown",
   "metadata": {},
   "source": [
    "**NB** this algorithm does not rely on the user specifying how many circles are in the image"
   ]
  },
  {
   "cell_type": "markdown",
   "metadata": {},
   "source": [
    "### Intermediate stages:"
   ]
  },
  {
   "cell_type": "markdown",
   "metadata": {},
   "source": [
    "#### show the gradient magnitude field"
   ]
  },
  {
   "cell_type": "code",
   "execution_count": null,
   "metadata": {},
   "outputs": [],
   "source": [
    "if False:\n",
    "    image = data.coins()[0:95, 70:370].astype(np.float32)\n",
    "    sigma = .5\n",
    "    di,dj = [ndimage.gaussian_filter(image,sigma,order=der) for der in ((0,1),(1,0))]\n",
    "    d_mag = np.sqrt(di**2+dj**2)\n",
    "    \n",
    "plt.matshow(d_mag)\n",
    "plt.colorbar()\n",
    "print 'gradient magnitude: \\n\\tmean = {} \\n\\tstd = {}'.format(d_mag.mean(), d_mag.std())"
   ]
  },
  {
   "cell_type": "markdown",
   "metadata": {},
   "source": [
    "#### show the least principal curvature field"
   ]
  },
  {
   "cell_type": "code",
   "execution_count": null,
   "metadata": {},
   "outputs": [],
   "source": [
    "plt.matshow(np.asarray(ridge_hough.deriv['principal_curv']))\n",
    "plt.colorbar()\n",
    "#A = [plot(circ[1],circ[0],'o') for circ in CHT_rings]\n",
    "plot_rings(CHT_rings)\n",
    "plt.grid(True)\n",
    "#print CHT_rings"
   ]
  },
  {
   "cell_type": "markdown",
   "metadata": {},
   "source": [
    "## Demo TODO"
   ]
  },
  {
   "cell_type": "markdown",
   "metadata": {},
   "source": [
    "+ add an interactive demo of the result due to parameters modification\n",
    "+ add code to reproduce the figures in the manuscript"
   ]
  }
 ],
 "metadata": {
  "kernelspec": {
   "display_name": "Python 3",
   "language": "python",
   "name": "python3"
  },
  "language_info": {
   "codemirror_mode": {
    "name": "ipython",
    "version": 3
   },
   "file_extension": ".py",
   "mimetype": "text/x-python",
   "name": "python",
   "nbconvert_exporter": "python",
   "pygments_lexer": "ipython3",
   "version": "3.6.8"
  }
 },
 "nbformat": 4,
 "nbformat_minor": 1
}
